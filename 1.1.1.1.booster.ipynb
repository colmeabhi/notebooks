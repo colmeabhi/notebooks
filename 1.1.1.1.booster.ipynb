{
  "nbformat": 4,
  "nbformat_minor": 0,
  "metadata": {
    "colab": {
      "name": "cloudflare_vpn.ipynb",
      "provenance": []
    },
    "kernelspec": {
      "name": "python3",
      "display_name": "Python 3"
    }
  },
  "cells": [
    {
      "cell_type": "code",
      "metadata": {
        "id": "ZSHn6ceegqNV",
        "colab_type": "code",
        "colab": {}
      },
      "source": [
        "import requests\n",
        "import json\n",
        "import datetime\n",
        "import random\n",
        "import string\n",
        "import time\n",
        "\n",
        "referrer = \"c4a63bc8-bf12-42f0-9c7a-aa241bde0ea6\"\n",
        "timesToLoop = \"1000\"\n",
        "retryTimes = 9999\n",
        "print(\"Running with ID: \" + referrer)\n",
        "\n",
        "def genString(stringLength):\n",
        "    letters = string.ascii_letters + string.digits\n",
        "    return ''.join(random.choice(letters) for i in range(stringLength))\n",
        "\n",
        "\n",
        "url = 'https://api.cloudflareclient.com/v0a745/reg'\n",
        "\n",
        "\n",
        "def run():\n",
        "    install_id = genString(11)\n",
        "    body = {\"key\": \"{}=\".format(genString(42)),\n",
        "            \"install_id\": install_id,\n",
        "            \"fcm_token\": \"{}:APA91b{}\".format(install_id, genString(134)),\n",
        "            \"referrer\": referrer,\n",
        "            \"warp_enabled\": False,\n",
        "            \"tos\": datetime.datetime.now().isoformat()[:-3] + \"+07:00\",\n",
        "            \"type\": \"Android\",\n",
        "            \"locale\": \"zh-CN\"}\n",
        "\n",
        "    bodyString = json.dumps(body)\n",
        "\n",
        "    headers = {'Content-Type': 'application/json; charset=UTF-8',\n",
        "               'Host': 'api.cloudflareclient.com',\n",
        "               'Connection': 'Keep-Alive',\n",
        "               'Accept-Encoding': 'gzip',\n",
        "               'User-Agent': 'okhttp/3.12.1'\n",
        "               }\n",
        "\n",
        "    r = requests.post(url, data=bodyString, headers=headers)\n",
        "    return r\n",
        "\n",
        "\n",
        "for i in range(int(timesToLoop)):\n",
        "    result = run()\n",
        "    if result.status_code == 200:\n",
        "        print(i + 1, \"OK\")\n",
        "    else:\n",
        "        print(i + 1, \"Error\")\n",
        "        for r in range(retryTimes):\n",
        "            retry = run()\n",
        "            if retry.status_code == 200:\n",
        "                print(i + 1, \"Retry #\" + str(r + 1), \"OK\")\n",
        "                break\n",
        "            else:\n",
        "                print(i + 1, \"Retry #\" + str(r + 1), \"Error\")\n",
        "                time.sleep(10)\n",
        "                break\n",
        "print(\"Finished with ID: \" + referrer)"
      ],
      "execution_count": 0,
      "outputs": []
    }
  ]
}