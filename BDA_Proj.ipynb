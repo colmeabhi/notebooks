{
  "nbformat": 4,
  "nbformat_minor": 0,
  "metadata": {
    "colab": {
      "name": "BDA_Proj.ipynb",
      "provenance": [],
      "collapsed_sections": [],
      "authorship_tag": "ABX9TyPmuDQ6BFlKsYkZcqsIpDAZ",
      "include_colab_link": true
    },
    "kernelspec": {
      "name": "python3",
      "display_name": "Python 3"
    }
  },
  "cells": [
    {
      "cell_type": "markdown",
      "metadata": {
        "id": "view-in-github",
        "colab_type": "text"
      },
      "source": [
        "<a href=\"https://colab.research.google.com/github/colmeabhi/notebooks/blob/master/BDA_Proj.ipynb\" target=\"_parent\"><img src=\"https://colab.research.google.com/assets/colab-badge.svg\" alt=\"Open In Colab\"/></a>"
      ]
    },
    {
      "cell_type": "code",
      "metadata": {
        "id": "Gsl-1AfRsGJ6"
      },
      "source": [
        "!apt-get install openjdk-8-jdk-headless -qq > /dev/null\n",
        "!wget -q https://www-us.apache.org/dist/spark/spark-3.0.1/spark-3.0.1-bin-hadoop2.7.tgz\n",
        "!tar xf spark-3.0.1-bin-hadoop2.7.tgz\n",
        "!pip install -q findspark\n",
        "import os\n",
        "os.environ[\"JAVA_HOME\"] = \"/usr/lib/jvm/java-8-openjdk-amd64\"\n",
        "os.environ[\"SPARK_HOME\"] = \"/content/spark-3.0.1-bin-hadoop2.7\"\n",
        "import findspark\n",
        "findspark.init()"
      ],
      "execution_count": null,
      "outputs": []
    },
    {
      "cell_type": "code",
      "metadata": {
        "id": "Xaxt3uzksMTg"
      },
      "source": [
        "from pyspark.sql import SparkSession\n",
        "spark = SparkSession.builder \\\n",
        "    .master(\"local[*]\") \\\n",
        "    .appName(\"Learning_Spark\") \\\n",
        "    .getOrCreate()"
      ],
      "execution_count": null,
      "outputs": []
    },
    {
      "cell_type": "code",
      "metadata": {
        "colab": {
          "resources": {
            "http://localhost:8080/nbextensions/google.colab/files.js": {
              "data": "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",
              "ok": true,
              "headers": [
                [
                  "content-type",
                  "application/javascript"
                ]
              ],
              "status": 200,
              "status_text": ""
            }
          },
          "base_uri": "https://localhost:8080/",
          "height": 71
        },
        "id": "04tj3lDEsQJH",
        "outputId": "53cb7ac8-ba59-4694-e531-825ddcf343e0"
      },
      "source": [
        "from google.colab import files\n",
        "files.upload()\n",
        "data = spark.read.csv('01_District_wise_crimes_committed_IPC_2014.csv',inferSchema=True, header=True)"
      ],
      "execution_count": null,
      "outputs": [
        {
          "output_type": "display_data",
          "data": {
            "text/html": [
              "\n",
              "     <input type=\"file\" id=\"files-03c2619c-97dd-48b3-b0d5-7da624bb43a5\" name=\"files[]\" multiple disabled\n",
              "        style=\"border:none\" />\n",
              "     <output id=\"result-03c2619c-97dd-48b3-b0d5-7da624bb43a5\">\n",
              "      Upload widget is only available when the cell has been executed in the\n",
              "      current browser session. Please rerun this cell to enable.\n",
              "      </output>\n",
              "      <script src=\"/nbextensions/google.colab/files.js\"></script> "
            ],
            "text/plain": [
              "<IPython.core.display.HTML object>"
            ]
          },
          "metadata": {
            "tags": []
          }
        },
        {
          "output_type": "stream",
          "text": [
            "Saving 01_District_wise_crimes_committed_IPC_2014.csv to 01_District_wise_crimes_committed_IPC_2014 (1).csv\n"
          ],
          "name": "stdout"
        }
      ]
    },
    {
      "cell_type": "code",
      "metadata": {
        "colab": {
          "base_uri": "https://localhost:8080/"
        },
        "id": "xXoNWs1csW_8",
        "outputId": "d2f34fe8-de01-4897-f0d1-d923d099cff1"
      },
      "source": [
        "data.count(), len(data.columns)"
      ],
      "execution_count": null,
      "outputs": [
        {
          "output_type": "execute_result",
          "data": {
            "text/plain": [
              "(838, 91)"
            ]
          },
          "metadata": {
            "tags": []
          },
          "execution_count": 39
        }
      ]
    },
    {
      "cell_type": "code",
      "metadata": {
        "colab": {
          "base_uri": "https://localhost:8080/"
        },
        "id": "0znjbQW_saXH",
        "outputId": "149ed6c2-91cc-4189-ba24-2e048226ecfa"
      },
      "source": [
        "data.show(5)"
      ],
      "execution_count": null,
      "outputs": [
        {
          "output_type": "stream",
          "text": [
            "+--------------+----------------+----+------+------------------------+-----------------------------------------+-----------------------------------+----+--------------+-------------------+--------------------+-------------------------+--------------+-----------+----------------------+----------------------------+----------------------+-----------------------------------------+---------------------+----------------------------------------------------------+----------------+-------+-------------------+-------------+------------------------------------------------------+-------+--------------------------+-----------------------------+-------------------------------+-----+----------+------------+-----------------+-----+--------------+----------------+---------------+--------------------+---------------------------+--------------------------+--------------+--------------+---------------+------------+------------------------+--------+-------+--------------+------------------------------------------------+-------------------------------+---------------------------------+----------------------------------------+--------------------------------------------------+----------------------------------------------------------+-------------------------------------------------------------+---------------------------------------------+-----+-------------+----+-----------+----------------------+------------+---------------------------------------------------+-----------------+----------------------------------------------------------------+---------+--------+----------------------+------------------------------+------------------+----------------------------+--------------------------+--------------------------------+-----------------------------------+-----------------------------------------+---------------------------+-----------------------------------+--------------------------+----------------------+--------+----------------------------+--------------------------------------------------+-----------------------------------------+----------------------------------------------------------+---------+---------------------------------+-------------------------+----------------+-----------------+----------------+---------------------------+\n",
            "|    States/UTs|        District|Year|Murder|Attempt to commit Murder|Culpable Homicide not amounting to Murder|Attempt to commit Culpable Homicide|Rape|Custodial Rape|Custodial_Gang Rape|Custodial_Other Rape|Rape other than Custodial|Rape_Gang Rape|Rape_Others|Attempt to commit Rape|Kidnapping & Abduction_Total|Kidnapping & Abduction|Kidnapping & Abduction in order to Murder|Kidnapping for Ransom|Kidnapping & Abduction of Women to compel her for marriage|Other Kidnapping|Dacoity|Dacoity with Murder|Other Dacoity|Making Preparation and Assembly for committing Dacoity|Robbery|Criminal Trespass/Burglary|Criminal Trespass or Burglary|House Trespass & House Breaking|Theft|Auto Theft|Other Thefts|Unlawful Assembly|Riots|Riots_Communal|Riots_Industrial|Riots_Political|Riots_Caste Conflict|Riots_SC/STs Vs Non-SCs/STs|Riots_Other Caste Conflict|Riots_Agrarian|Riots_Students|Riots_Sectarian|Riots_Others|Criminal Breach of Trust|Cheating|Forgery|Counterfeiting|Counterfeit Offences related to Counterfeit Coin|Counterfeiting Government Stamp|Counterfeit currency & Bank notes|Counterfeiting currency notes/Bank notes|Using forged or counterfeiting currency/Bank notes|Possession of forged or counterfeiting currency/Bank notes|Making or Possessing materials for forged currency/Bank notes|Making or Using documents resembling currency|Arson|Grievous Hurt|Hurt|Acid attack|Attempt to Acid Attack|Dowry Deaths|Assault on Women with intent to outrage her Modesty|Sexual Harassment|Assault or use of criminal force to women with intent to Disrobe|Voyeurism|Stalking|Other Assault on Women|Insult to the Modesty of Women|At Office premises|Other places related to work|In Public Transport system|Places other than 231, 232 & 233|Cruelty by Husband or his Relatives|Importation of Girls from Foreign Country|Causing Death by Negligence|Deaths due to negligent driving/act|Deaths due to Other Causes|Offences against State|Sedition|Other offences against State|Offences promoting enmity between different groups|Promoting enmity between different groups|Imputation, assertions prejudicial to national integration|Extortion|Disclosure of Identity of Victims|Incidence of Rash Driving|HumanTrafficking|Unnatural Offence|Other IPC crimes|Total Cognizable IPC crimes|\n",
            "+--------------+----------------+----+------+------------------------+-----------------------------------------+-----------------------------------+----+--------------+-------------------+--------------------+-------------------------+--------------+-----------+----------------------+----------------------------+----------------------+-----------------------------------------+---------------------+----------------------------------------------------------+----------------+-------+-------------------+-------------+------------------------------------------------------+-------+--------------------------+-----------------------------+-------------------------------+-----+----------+------------+-----------------+-----+--------------+----------------+---------------+--------------------+---------------------------+--------------------------+--------------+--------------+---------------+------------+------------------------+--------+-------+--------------+------------------------------------------------+-------------------------------+---------------------------------+----------------------------------------+--------------------------------------------------+----------------------------------------------------------+-------------------------------------------------------------+---------------------------------------------+-----+-------------+----+-----------+----------------------+------------+---------------------------------------------------+-----------------+----------------------------------------------------------------+---------+--------+----------------------+------------------------------+------------------+----------------------------+--------------------------+--------------------------------+-----------------------------------+-----------------------------------------+---------------------------+-----------------------------------+--------------------------+----------------------+--------+----------------------------+--------------------------------------------------+-----------------------------------------+----------------------------------------------------------+---------+---------------------------------+-------------------------+----------------+-----------------+----------------+---------------------------+\n",
            "|Andhra Pradesh|       Anantapur|2014|   134|                     171|                                        8|                                  0|  35|             0|                  0|                   0|                       35|             0|         35|                     1|                         125|                     0|                                        0|                    0|                                                        88|              37|      6|                  0|            6|                                                     0|     30|                       415|                          315|                            100|  753|       240|         513|                0|  214|             0|               0|              0|                   0|                          0|                         0|             0|             0|              0|         214|                      13|     296|      0|            10|                                               0|                              0|                               10|                                      10|                                                 0|                                                         0|                                                            0|                                            0|   12|           25|  24|          1|                     0|          25|                                                436|               82|                                                              34|        4|      80|                   236|                            26|                 0|                           0|                         0|                              26|                                165|                                        0|                        638|                                638|                         0|                     0|       0|                           0|                                                 0|                                        0|                                                         0|        0|                                0|                     1038|               0|                0|            3800|                       8376|\n",
            "|Andhra Pradesh|        Chittoor|2014|    84|                     170|                                        2|                                  0|  32|             0|                  0|                   0|                       32|             1|         31|                     0|                          38|                     4|                                        0|                    3|                                                        28|               3|     12|                  0|           12|                                                     0|     22|                       195|                          154|                             41|  528|       192|         336|                0|  134|             0|               0|              0|                   0|                          0|                         0|             0|             0|              0|         134|                       7|     207|      0|             5|                                               0|                              0|                                5|                                       0|                                                 5|                                                         0|                                                            0|                                            0|   23|           18|  18|          0|                     0|          17|                                                135|                0|                                                               0|        0|       0|                   135|                            94|                 0|                           0|                         0|                              94|                                278|                                        0|                        538|                                538|                         0|                     0|       0|                           0|                                                 0|                                        0|                                                         0|       19|                                0|                      249|               0|                0|            2567|                       5374|\n",
            "|Andhra Pradesh|        Cuddapah|2014|    80|                     162|                                        1|                                  0|  28|             0|                  0|                   0|                       28|             0|         28|                     4|                          27|                     0|                                        0|                    0|                                                        11|              16|      3|                  0|            3|                                                     0|     16|                       144|                          144|                              0|  638|       193|         445|                0|  104|             0|               0|            104|                   0|                          0|                         0|             0|             0|              0|           0|                      86|     163|      0|             5|                                               0|                              0|                                5|                                       5|                                                 0|                                                         0|                                                            0|                                            0|    0|           39|  39|          0|                     0|          16|                                                215|              212|                                                               0|        0|       0|                     3|                            12|                 1|                          11|                         0|                               0|                                 91|                                        0|                        417|                                417|                         0|                     0|       0|                           0|                                                 0|                                        0|                                                         0|        0|                                0|                      948|               0|                0|            2604|                       5803|\n",
            "|Andhra Pradesh|   East Godavari|2014|    64|                      84|                                        2|                                  0|  85|             0|                  0|                   0|                       85|             0|         85|                    18|                          66|                     0|                                        0|                    0|                                                         0|              66|      3|                  0|            3|                                                     0|     24|                       346|                          295|                             51|  903|       347|         556|                0|   27|             0|               0|              0|                   0|                          0|                         0|             0|             0|              0|          27|                      96|     214|      0|            22|                                               0|                              0|                               22|                                       0|                                                22|                                                         0|                                                            0|                                            0|   50|           44|  43|          0|                     1|           7|                                                519|              159|                                                              61|       11|      55|                   233|                            62|                 0|                           0|                         0|                              62|                                464|                                        0|                        668|                                642|                        26|                     0|       0|                           0|                                                 0|                                        0|                                                         0|       32|                                0|                       39|               0|                0|            3791|                       7630|\n",
            "|Andhra Pradesh|Guntakal Railway|2014|    14|                       4|                                        0|                                  0|   0|             0|                  0|                   0|                        0|             0|          0|                     0|                           0|                     0|                                        0|                    0|                                                         0|               0|      2|                  0|            2|                                                     0|      4|                         0|                            0|                              0|  413|         0|         413|                0|    1|             0|               0|              0|                   0|                          0|                         0|             0|             0|              0|           1|                       0|       5|      0|             5|                                               0|                              0|                                5|                                       0|                                                 5|                                                         0|                                                            0|                                            0|    0|            0|   0|          0|                     0|           0|                                                  0|                0|                                                               0|        0|       0|                     0|                             0|                 0|                           0|                         0|                               0|                                  0|                                        0|                          4|                                  0|                         4|                     0|       0|                           0|                                                 0|                                        0|                                                         0|        0|                                0|                        1|               0|                0|              37|                        490|\n",
            "+--------------+----------------+----+------+------------------------+-----------------------------------------+-----------------------------------+----+--------------+-------------------+--------------------+-------------------------+--------------+-----------+----------------------+----------------------------+----------------------+-----------------------------------------+---------------------+----------------------------------------------------------+----------------+-------+-------------------+-------------+------------------------------------------------------+-------+--------------------------+-----------------------------+-------------------------------+-----+----------+------------+-----------------+-----+--------------+----------------+---------------+--------------------+---------------------------+--------------------------+--------------+--------------+---------------+------------+------------------------+--------+-------+--------------+------------------------------------------------+-------------------------------+---------------------------------+----------------------------------------+--------------------------------------------------+----------------------------------------------------------+-------------------------------------------------------------+---------------------------------------------+-----+-------------+----+-----------+----------------------+------------+---------------------------------------------------+-----------------+----------------------------------------------------------------+---------+--------+----------------------+------------------------------+------------------+----------------------------+--------------------------+--------------------------------+-----------------------------------+-----------------------------------------+---------------------------+-----------------------------------+--------------------------+----------------------+--------+----------------------------+--------------------------------------------------+-----------------------------------------+----------------------------------------------------------+---------+---------------------------------+-------------------------+----------------+-----------------+----------------+---------------------------+\n",
            "only showing top 5 rows\n",
            "\n"
          ],
          "name": "stdout"
        }
      ]
    },
    {
      "cell_type": "code",
      "metadata": {
        "colab": {
          "base_uri": "https://localhost:8080/"
        },
        "id": "L01RwCz6vkTx",
        "outputId": "0e6f0589-f3b7-4ed1-be2c-98202be342cd"
      },
      "source": [
        "data.printSchema()"
      ],
      "execution_count": null,
      "outputs": [
        {
          "output_type": "stream",
          "text": [
            "root\n",
            " |-- States/UTs: string (nullable = true)\n",
            " |-- District: string (nullable = true)\n",
            " |-- Year: integer (nullable = true)\n",
            " |-- Murder: integer (nullable = true)\n",
            " |-- Attempt to commit Murder: integer (nullable = true)\n",
            " |-- Culpable Homicide not amounting to Murder: integer (nullable = true)\n",
            " |-- Attempt to commit Culpable Homicide: integer (nullable = true)\n",
            " |-- Rape: integer (nullable = true)\n",
            " |-- Custodial Rape: integer (nullable = true)\n",
            " |-- Custodial_Gang Rape: integer (nullable = true)\n",
            " |-- Custodial_Other Rape: integer (nullable = true)\n",
            " |-- Rape other than Custodial: integer (nullable = true)\n",
            " |-- Rape_Gang Rape: integer (nullable = true)\n",
            " |-- Rape_Others: integer (nullable = true)\n",
            " |-- Attempt to commit Rape: integer (nullable = true)\n",
            " |-- Kidnapping & Abduction_Total: integer (nullable = true)\n",
            " |-- Kidnapping & Abduction: integer (nullable = true)\n",
            " |-- Kidnapping & Abduction in order to Murder: integer (nullable = true)\n",
            " |-- Kidnapping for Ransom: integer (nullable = true)\n",
            " |-- Kidnapping & Abduction of Women to compel her for marriage: integer (nullable = true)\n",
            " |-- Other Kidnapping: integer (nullable = true)\n",
            " |-- Dacoity: integer (nullable = true)\n",
            " |-- Dacoity with Murder: integer (nullable = true)\n",
            " |-- Other Dacoity: integer (nullable = true)\n",
            " |-- Making Preparation and Assembly for committing Dacoity: integer (nullable = true)\n",
            " |-- Robbery: integer (nullable = true)\n",
            " |-- Criminal Trespass/Burglary: integer (nullable = true)\n",
            " |-- Criminal Trespass or Burglary: integer (nullable = true)\n",
            " |-- House Trespass & House Breaking: integer (nullable = true)\n",
            " |-- Theft: integer (nullable = true)\n",
            " |-- Auto Theft: integer (nullable = true)\n",
            " |-- Other Thefts: integer (nullable = true)\n",
            " |-- Unlawful Assembly: integer (nullable = true)\n",
            " |-- Riots: integer (nullable = true)\n",
            " |-- Riots_Communal: integer (nullable = true)\n",
            " |-- Riots_Industrial: integer (nullable = true)\n",
            " |-- Riots_Political: integer (nullable = true)\n",
            " |-- Riots_Caste Conflict: integer (nullable = true)\n",
            " |-- Riots_SC/STs Vs Non-SCs/STs: integer (nullable = true)\n",
            " |-- Riots_Other Caste Conflict: integer (nullable = true)\n",
            " |-- Riots_Agrarian: integer (nullable = true)\n",
            " |-- Riots_Students: integer (nullable = true)\n",
            " |-- Riots_Sectarian: integer (nullable = true)\n",
            " |-- Riots_Others: integer (nullable = true)\n",
            " |-- Criminal Breach of Trust: integer (nullable = true)\n",
            " |-- Cheating: integer (nullable = true)\n",
            " |-- Forgery: integer (nullable = true)\n",
            " |-- Counterfeiting: integer (nullable = true)\n",
            " |-- Counterfeit Offences related to Counterfeit Coin: integer (nullable = true)\n",
            " |-- Counterfeiting Government Stamp: integer (nullable = true)\n",
            " |-- Counterfeit currency & Bank notes: integer (nullable = true)\n",
            " |-- Counterfeiting currency notes/Bank notes: integer (nullable = true)\n",
            " |-- Using forged or counterfeiting currency/Bank notes: integer (nullable = true)\n",
            " |-- Possession of forged or counterfeiting currency/Bank notes: integer (nullable = true)\n",
            " |-- Making or Possessing materials for forged currency/Bank notes: integer (nullable = true)\n",
            " |-- Making or Using documents resembling currency: integer (nullable = true)\n",
            " |-- Arson: integer (nullable = true)\n",
            " |-- Grievous Hurt: integer (nullable = true)\n",
            " |-- Hurt: integer (nullable = true)\n",
            " |-- Acid attack: integer (nullable = true)\n",
            " |-- Attempt to Acid Attack: integer (nullable = true)\n",
            " |-- Dowry Deaths: integer (nullable = true)\n",
            " |-- Assault on Women with intent to outrage her Modesty: integer (nullable = true)\n",
            " |-- Sexual Harassment: integer (nullable = true)\n",
            " |-- Assault or use of criminal force to women with intent to Disrobe: integer (nullable = true)\n",
            " |-- Voyeurism: integer (nullable = true)\n",
            " |-- Stalking: integer (nullable = true)\n",
            " |-- Other Assault on Women: integer (nullable = true)\n",
            " |-- Insult to the Modesty of Women: integer (nullable = true)\n",
            " |-- At Office premises: integer (nullable = true)\n",
            " |-- Other places related to work: integer (nullable = true)\n",
            " |-- In Public Transport system: integer (nullable = true)\n",
            " |-- Places other than 231, 232 & 233: integer (nullable = true)\n",
            " |-- Cruelty by Husband or his Relatives: integer (nullable = true)\n",
            " |-- Importation of Girls from Foreign Country: integer (nullable = true)\n",
            " |-- Causing Death by Negligence: integer (nullable = true)\n",
            " |-- Deaths due to negligent driving/act: integer (nullable = true)\n",
            " |-- Deaths due to Other Causes: integer (nullable = true)\n",
            " |-- Offences against State: integer (nullable = true)\n",
            " |-- Sedition: integer (nullable = true)\n",
            " |-- Other offences against State: integer (nullable = true)\n",
            " |-- Offences promoting enmity between different groups: integer (nullable = true)\n",
            " |-- Promoting enmity between different groups: integer (nullable = true)\n",
            " |-- Imputation, assertions prejudicial to national integration: integer (nullable = true)\n",
            " |-- Extortion: integer (nullable = true)\n",
            " |-- Disclosure of Identity of Victims: integer (nullable = true)\n",
            " |-- Incidence of Rash Driving: integer (nullable = true)\n",
            " |-- HumanTrafficking: integer (nullable = true)\n",
            " |-- Unnatural Offence: integer (nullable = true)\n",
            " |-- Other IPC crimes: integer (nullable = true)\n",
            " |-- Total Cognizable IPC crimes: integer (nullable = true)\n",
            "\n"
          ],
          "name": "stdout"
        }
      ]
    },
    {
      "cell_type": "code",
      "metadata": {
        "colab": {
          "base_uri": "https://localhost:8080/"
        },
        "id": "9bb07lxfDi6v",
        "outputId": "556bcd9d-2d0a-4bd8-9d6a-d4ff26dc4c3d"
      },
      "source": [
        "#Riots Crimes\n",
        "data.select(\"States/UTs\", \"District\", \"Year\", \"Riots\", \"Riots_Communal\", \"Riots_Industrial\", \"Riots_Political\", \"Riots_Caste Conflict\",  \"Total Cognizable IPC crimes\", ).show(15, truncate = False)"
      ],
      "execution_count": null,
      "outputs": [
        {
          "output_type": "stream",
          "text": [
            "+--------------+----------------+----+-----+--------------+----------------+---------------+--------------------+---------------------------+\n",
            "|States/UTs    |District        |Year|Riots|Riots_Communal|Riots_Industrial|Riots_Political|Riots_Caste Conflict|Total Cognizable IPC crimes|\n",
            "+--------------+----------------+----+-----+--------------+----------------+---------------+--------------------+---------------------------+\n",
            "|Andhra Pradesh|Anantapur       |2014|214  |0             |0               |0              |0                   |8376                       |\n",
            "|Andhra Pradesh|Chittoor        |2014|134  |0             |0               |0              |0                   |5374                       |\n",
            "|Andhra Pradesh|Cuddapah        |2014|104  |0             |0               |104            |0                   |5803                       |\n",
            "|Andhra Pradesh|East Godavari   |2014|27   |0             |0               |0              |0                   |7630                       |\n",
            "|Andhra Pradesh|Guntakal Railway|2014|1    |0             |0               |0              |0                   |490                        |\n",
            "|Andhra Pradesh|Guntur          |2014|78   |0             |0               |0              |6                   |6897                       |\n",
            "|Andhra Pradesh|Guntur Urban    |2014|8    |0             |0               |0              |0                   |5798                       |\n",
            "|Andhra Pradesh|Krishna         |2014|9    |0             |0               |0              |0                   |7078                       |\n",
            "|Andhra Pradesh|Kurnool         |2014|108  |4             |0               |1              |9                   |8398                       |\n",
            "|Andhra Pradesh|Nellore         |2014|84   |0             |0               |10             |0                   |8175                       |\n",
            "|Andhra Pradesh|Prakasham       |2014|124  |0             |0               |4              |0                   |6367                       |\n",
            "|Andhra Pradesh|Rajahmundry     |2014|16   |2             |0               |0              |2                   |2430                       |\n",
            "|Andhra Pradesh|Srikakulam      |2014|17   |0             |0               |10             |0                   |4727                       |\n",
            "|Andhra Pradesh|Tirupathi Urban |2014|31   |0             |0               |0              |0                   |3651                       |\n",
            "|Andhra Pradesh|Vijayawada City |2014|2    |0             |0               |0              |0                   |7876                       |\n",
            "+--------------+----------------+----+-----+--------------+----------------+---------------+--------------------+---------------------------+\n",
            "only showing top 15 rows\n",
            "\n"
          ],
          "name": "stdout"
        }
      ]
    },
    {
      "cell_type": "code",
      "metadata": {
        "colab": {
          "base_uri": "https://localhost:8080/"
        },
        "id": "BhIPQoz5Ej_u",
        "outputId": "e8a47011-e83a-4280-beac-9a46f23190bc"
      },
      "source": [
        "data.describe([\"States/UTs\", \"District\", \"Year\", \"Riots\", \"Riots_Communal\", \"Riots_Industrial\", \"Riots_Political\", \"Riots_Caste Conflict\",  \"Total Cognizable IPC crimes\"]).show()"
      ],
      "execution_count": null,
      "outputs": [
        {
          "output_type": "stream",
          "text": [
            "+-------+-----------+---------+------+------------------+------------------+-------------------+-----------------+--------------------+---------------------------+\n",
            "|summary| States/UTs| District|  Year|             Riots|    Riots_Communal|   Riots_Industrial|  Riots_Political|Riots_Caste Conflict|Total Cognizable IPC crimes|\n",
            "+-------+-----------+---------+------+------------------+------------------+-------------------+-----------------+--------------------+---------------------------+\n",
            "|  count|        838|      838|   838|               838|               838|                838|              838|                 838|                        838|\n",
            "|   mean|       null|     null|2014.0|158.00954653937947| 2.935560859188544|0.42482100238663484|4.463007159904534|  3.6085918854415273|          6823.243436754176|\n",
            "| stddev|       null|     null|   0.0| 715.9502461668776|20.188849149265533|  5.118285877747013|33.41585400600984|  21.772463458229392|         24094.386057029133|\n",
            "|    min|A&N Islands| Adilabad|  2014|                 0|                 0|                  0|                0|                   0|                          0|\n",
            "|    max|West Bengal|Zunheboto|  2014|             13566|               349|                107|              769|                 388|                     272423|\n",
            "+-------+-----------+---------+------+------------------+------------------+-------------------+-----------------+--------------------+---------------------------+\n",
            "\n"
          ],
          "name": "stdout"
        }
      ]
    },
    {
      "cell_type": "code",
      "metadata": {
        "colab": {
          "base_uri": "https://localhost:8080/"
        },
        "id": "gj5zFJu7vt0g",
        "outputId": "d04bd35f-50ba-448f-86fb-967a4f9b3389"
      },
      "source": [
        "#Driving Crimes\n",
        "data.select(\"States/UTs\", \"District\", \"Year\", \"Incidence of Rash Driving\", \"Deaths due to negligent driving/act\", \"Total Cognizable IPC crimes\", ).show(15, truncate = False)"
      ],
      "execution_count": null,
      "outputs": [
        {
          "output_type": "stream",
          "text": [
            "+--------------+----------------+----+-------------------------+-----------------------------------+---------------------------+\n",
            "|States/UTs    |District        |Year|Incidence of Rash Driving|Deaths due to negligent driving/act|Total Cognizable IPC crimes|\n",
            "+--------------+----------------+----+-------------------------+-----------------------------------+---------------------------+\n",
            "|Andhra Pradesh|Anantapur       |2014|1038                     |638                                |8376                       |\n",
            "|Andhra Pradesh|Chittoor        |2014|249                      |538                                |5374                       |\n",
            "|Andhra Pradesh|Cuddapah        |2014|948                      |417                                |5803                       |\n",
            "|Andhra Pradesh|East Godavari   |2014|39                       |642                                |7630                       |\n",
            "|Andhra Pradesh|Guntakal Railway|2014|1                        |0                                  |490                        |\n",
            "|Andhra Pradesh|Guntur          |2014|846                      |494                                |6897                       |\n",
            "|Andhra Pradesh|Guntur Urban    |2014|691                      |226                                |5798                       |\n",
            "|Andhra Pradesh|Krishna         |2014|70                       |418                                |7078                       |\n",
            "|Andhra Pradesh|Kurnool         |2014|1313                     |495                                |8398                       |\n",
            "|Andhra Pradesh|Nellore         |2014|1173                     |440                                |8175                       |\n",
            "|Andhra Pradesh|Prakasham       |2014|785                      |490                                |6367                       |\n",
            "|Andhra Pradesh|Rajahmundry     |2014|394                      |128                                |2430                       |\n",
            "|Andhra Pradesh|Srikakulam      |2014|895                      |259                                |4727                       |\n",
            "|Andhra Pradesh|Tirupathi Urban |2014|429                      |221                                |3651                       |\n",
            "|Andhra Pradesh|Vijayawada City |2014|1366                     |312                                |7876                       |\n",
            "+--------------+----------------+----+-------------------------+-----------------------------------+---------------------------+\n",
            "only showing top 15 rows\n",
            "\n"
          ],
          "name": "stdout"
        }
      ]
    },
    {
      "cell_type": "code",
      "metadata": {
        "colab": {
          "base_uri": "https://localhost:8080/"
        },
        "id": "e7ZZZKdmwovS",
        "outputId": "d15a4564-3d69-4941-de39-85c29545d9ab"
      },
      "source": [
        "data.describe([\"Incidence of Rash Driving\", \"Deaths due to negligent driving/act\", \"Total Cognizable IPC crimes\"]).show()"
      ],
      "execution_count": null,
      "outputs": [
        {
          "output_type": "stream",
          "text": [
            "+-------+-------------------------+-----------------------------------+---------------------------+\n",
            "|summary|Incidence of Rash Driving|Deaths due to negligent driving/act|Total Cognizable IPC crimes|\n",
            "+-------+-------------------------+-----------------------------------+---------------------------+\n",
            "|  count|                      838|                                838|                        838|\n",
            "|   mean|        978.1789976133651|                 292.08114558472556|          6823.243436754176|\n",
            "| stddev|        4989.771065581862|                 1103.6489767572714|         24094.386057029133|\n",
            "|    min|                        0|                                  0|                          0|\n",
            "|    max|                   108962|                              14599|                     272423|\n",
            "+-------+-------------------------+-----------------------------------+---------------------------+\n",
            "\n"
          ],
          "name": "stdout"
        }
      ]
    },
    {
      "cell_type": "code",
      "metadata": {
        "colab": {
          "base_uri": "https://localhost:8080/"
        },
        "id": "hWg8yWyUMTxf",
        "outputId": "a419476f-ad21-41c1-8fd7-451da2230aa3"
      },
      "source": [
        "#Crime Against Women\n",
        "data.select(\"Rape\",\"Kidnapping & Abduction of Women to compel her for marriage\", \"Acid attack\", \"Dowry Deaths\", \"Assault on Women with intent to outrage her Modesty\", \"Sexual Harassment\", \"Assault or use of criminal force to women with intent to Disrobe\", \"Stalking\", \"Other Assault on Women\", \"Insult to the Modesty of Women\", \"Cruelty by Husband or his Relatives\").show(15, truncate = False)"
      ],
      "execution_count": null,
      "outputs": [
        {
          "output_type": "stream",
          "text": [
            "+----+----------------------------------------------------------+-----------+------------+---------------------------------------------------+-----------------+----------------------------------------------------------------+--------+----------------------+------------------------------+-----------------------------------+\n",
            "|Rape|Kidnapping & Abduction of Women to compel her for marriage|Acid attack|Dowry Deaths|Assault on Women with intent to outrage her Modesty|Sexual Harassment|Assault or use of criminal force to women with intent to Disrobe|Stalking|Other Assault on Women|Insult to the Modesty of Women|Cruelty by Husband or his Relatives|\n",
            "+----+----------------------------------------------------------+-----------+------------+---------------------------------------------------+-----------------+----------------------------------------------------------------+--------+----------------------+------------------------------+-----------------------------------+\n",
            "|35  |88                                                        |1          |25          |436                                                |82               |34                                                              |80      |236                   |26                            |165                                |\n",
            "|32  |28                                                        |0          |17          |135                                                |0                |0                                                               |0       |135                   |94                            |278                                |\n",
            "|28  |11                                                        |0          |16          |215                                                |212              |0                                                               |0       |3                     |12                            |91                                 |\n",
            "|85  |0                                                         |0          |7           |519                                                |159              |61                                                              |55      |233                   |62                            |464                                |\n",
            "|0   |0                                                         |0          |0           |0                                                  |0                |0                                                               |0       |0                     |0                             |0                                  |\n",
            "|49  |0                                                         |0          |16          |245                                                |17               |7                                                               |8       |210                   |347                           |454                                |\n",
            "|40  |0                                                         |0          |12          |160                                                |0                |0                                                               |0       |160                   |452                           |345                                |\n",
            "|80  |19                                                        |0          |8           |354                                                |98               |44                                                              |76      |123                   |232                           |613                                |\n",
            "|32  |16                                                        |0          |12          |403                                                |81               |18                                                              |40      |262                   |251                           |362                                |\n",
            "|58  |64                                                        |1          |14          |295                                                |79               |14                                                              |32      |162                   |205                           |362                                |\n",
            "|50  |11                                                        |0          |8           |197                                                |24               |3                                                               |13      |150                   |16                            |402                                |\n",
            "|35  |2                                                         |0          |3           |121                                                |37               |6                                                               |17      |61                    |27                            |190                                |\n",
            "|40  |5                                                         |1          |3           |214                                                |26               |45                                                              |22      |121                   |91                            |298                                |\n",
            "|18  |9                                                         |0          |13          |60                                                 |2                |2                                                               |5       |51                    |21                            |167                                |\n",
            "|64  |11                                                        |0          |10          |279                                                |40               |15                                                              |91      |124                   |212                           |642                                |\n",
            "+----+----------------------------------------------------------+-----------+------------+---------------------------------------------------+-----------------+----------------------------------------------------------------+--------+----------------------+------------------------------+-----------------------------------+\n",
            "only showing top 15 rows\n",
            "\n"
          ],
          "name": "stdout"
        }
      ]
    },
    {
      "cell_type": "code",
      "metadata": {
        "colab": {
          "base_uri": "https://localhost:8080/"
        },
        "id": "sUNir3R3NxJk",
        "outputId": "ed588279-6147-448e-ecf2-c943b3a17ea9"
      },
      "source": [
        "data.describe([\"Rape\",\"Kidnapping & Abduction of Women to compel her for marriage\", \"Acid attack\", \"Dowry Deaths\", \"Assault on Women with intent to outrage her Modesty\", \"Sexual Harassment\", \"Assault or use of criminal force to women with intent to Disrobe\", \"Stalking\", \"Other Assault on Women\", \"Insult to the Modesty of Women\", \"Cruelty by Husband or his Relatives\"]).show()"
      ],
      "execution_count": null,
      "outputs": [
        {
          "output_type": "stream",
          "text": [
            "+-------+------------------+----------------------------------------------------------+-------------------+------------------+---------------------------------------------------+-----------------+----------------------------------------------------------------+------------------+----------------------+------------------------------+-----------------------------------+\n",
            "|summary|              Rape|Kidnapping & Abduction of Women to compel her for marriage|        Acid attack|      Dowry Deaths|Assault on Women with intent to outrage her Modesty|Sexual Harassment|Assault or use of criminal force to women with intent to Disrobe|          Stalking|Other Assault on Women|Insult to the Modesty of Women|Cruelty by Husband or his Relatives|\n",
            "+-------+------------------+----------------------------------------------------------+-------------------+------------------+---------------------------------------------------+-----------------+----------------------------------------------------------------+------------------+----------------------+------------------------------+-----------------------------------+\n",
            "|  count|               838|                                                       838|                838|               838|                                                838|              838|                                                             838|               838|                   838|                           838|                                838|\n",
            "|   mean| 92.31026252983294|                                         74.42482100238664|0.48687350835322196|20.186157517899762|                                 196.68496420047734|52.43436754176611|                                              15.334128878281623|11.221957040572793|    116.07159904534606|            23.241050119331742|                 293.94510739856804|\n",
            "| stddev|342.63046217492956|                                        365.70896558251775|  2.414946392688707|107.57242543408628|                                  755.3115562401407|254.9736601530081|                                               69.85070650622977| 54.93409449822442|     445.5234389483882|             134.0453359882772|                 1259.8836178613813|\n",
            "|    min|                 0|                                                         0|                  0|                 0|                                                  0|                0|                                                               0|                 0|                     0|                             0|                                  0|\n",
            "|    max|              5076|                                                      7338|                 42|              2469|                                              10001|             4435|                                                            1142|               835|                  5827|                          2649|                              23564|\n",
            "+-------+------------------+----------------------------------------------------------+-------------------+------------------+---------------------------------------------------+-----------------+----------------------------------------------------------------+------------------+----------------------+------------------------------+-----------------------------------+\n",
            "\n"
          ],
          "name": "stdout"
        }
      ]
    },
    {
      "cell_type": "code",
      "metadata": {
        "colab": {
          "base_uri": "https://localhost:8080/"
        },
        "id": "s1ioj_f8xPPv",
        "outputId": "04d9c565-768c-4972-b214-d22e0bad4e64"
      },
      "source": [
        "#No of District in a state reported crimes\n",
        "data.groupBy(\"States/UTs\").count().orderBy(\"count\", ascending = False).show(10)"
      ],
      "execution_count": null,
      "outputs": [
        {
          "output_type": "stream",
          "text": [
            "+---------------+-----+\n",
            "|     States/UTs|count|\n",
            "+---------------+-----+\n",
            "|  Uttar Pradesh|   77|\n",
            "| Madhya Pradesh|   56|\n",
            "|    Maharashtra|   47|\n",
            "|          Bihar|   47|\n",
            "|      Rajasthan|   43|\n",
            "|     Tamil Nadu|   43|\n",
            "|        Gujarat|   42|\n",
            "|         Odisha|   37|\n",
            "|      Karnataka|   37|\n",
            "|Jammu & Kashmir|   31|\n",
            "+---------------+-----+\n",
            "only showing top 10 rows\n",
            "\n"
          ],
          "name": "stdout"
        }
      ]
    },
    {
      "cell_type": "code",
      "metadata": {
        "id": "VqqG34Exx1v6"
      },
      "source": [
        "#removed the total columns for states\n",
        "condition1 = data.District != \"Total\"\n",
        "data = data.filter(condition1)"
      ],
      "execution_count": null,
      "outputs": []
    },
    {
      "cell_type": "code",
      "metadata": {
        "colab": {
          "base_uri": "https://localhost:8080/",
          "height": 34
        },
        "id": "683tGtZpAPFY",
        "outputId": "1c882cac-95e9-42a3-efca-471819edf0ab"
      },
      "source": [
        "data_cat_sum = data.groupBy(\"States/UTs\").agg({'Incidence of Rash Driving':\"sum\"})\n",
        "display(data_cat_sum)"
      ],
      "execution_count": null,
      "outputs": [
        {
          "output_type": "display_data",
          "data": {
            "text/plain": [
              "DataFrame[States/UTs: string, sum(Incidence of Rash Driving): bigint]"
            ]
          },
          "metadata": {
            "tags": []
          }
        }
      ]
    },
    {
      "cell_type": "code",
      "metadata": {
        "id": "Cyo5ViFqCAY3"
      },
      "source": [
        "from pyspark.ml.feature import VectorAssembler\n",
        "inputcols = [\"Kidnapping & Abduction of Women to compel her for marriage\", \"Dowry Deaths\", \"Sexual Harassment\", \"Assault or use of criminal force to women with intent to Disrobe\", \"Acid attack\", \"Other Assault on Women\", \"Insult to the Modesty of Women\", \"Stalking\"]\n",
        "assembler = VectorAssembler(inputCols= inputcols,\n",
        "                            outputCol = \"predictors\")"
      ],
      "execution_count": null,
      "outputs": []
    },
    {
      "cell_type": "code",
      "metadata": {
        "id": "Q7YmwwZCR_49",
        "colab": {
          "base_uri": "https://localhost:8080/"
        },
        "outputId": "56abf667-6bf1-4f57-a94d-8f0965987f7c"
      },
      "source": [
        "predictors = assembler.setHandleInvalid(\"skip\").transform(data)\n",
        "predictors.columns"
      ],
      "execution_count": null,
      "outputs": [
        {
          "output_type": "execute_result",
          "data": {
            "text/plain": [
              "['States/UTs',\n",
              " 'District',\n",
              " 'Year',\n",
              " 'Murder',\n",
              " 'Attempt to commit Murder',\n",
              " 'Culpable Homicide not amounting to Murder',\n",
              " 'Attempt to commit Culpable Homicide',\n",
              " 'Rape',\n",
              " 'Custodial Rape',\n",
              " 'Custodial_Gang Rape',\n",
              " 'Custodial_Other Rape',\n",
              " 'Rape other than Custodial',\n",
              " 'Rape_Gang Rape',\n",
              " 'Rape_Others',\n",
              " 'Attempt to commit Rape',\n",
              " 'Kidnapping & Abduction_Total',\n",
              " 'Kidnapping & Abduction',\n",
              " 'Kidnapping & Abduction in order to Murder',\n",
              " 'Kidnapping for Ransom',\n",
              " 'Kidnapping & Abduction of Women to compel her for marriage',\n",
              " 'Other Kidnapping',\n",
              " 'Dacoity',\n",
              " 'Dacoity with Murder',\n",
              " 'Other Dacoity',\n",
              " 'Making Preparation and Assembly for committing Dacoity',\n",
              " 'Robbery',\n",
              " 'Criminal Trespass/Burglary',\n",
              " 'Criminal Trespass or Burglary',\n",
              " 'House Trespass & House Breaking',\n",
              " 'Theft',\n",
              " 'Auto Theft',\n",
              " 'Other Thefts',\n",
              " 'Unlawful Assembly',\n",
              " 'Riots',\n",
              " 'Riots_Communal',\n",
              " 'Riots_Industrial',\n",
              " 'Riots_Political',\n",
              " 'Riots_Caste Conflict',\n",
              " 'Riots_SC/STs Vs Non-SCs/STs',\n",
              " 'Riots_Other Caste Conflict',\n",
              " 'Riots_Agrarian',\n",
              " 'Riots_Students',\n",
              " 'Riots_Sectarian',\n",
              " 'Riots_Others',\n",
              " 'Criminal Breach of Trust',\n",
              " 'Cheating',\n",
              " 'Forgery',\n",
              " 'Counterfeiting',\n",
              " 'Counterfeit Offences related to Counterfeit Coin',\n",
              " 'Counterfeiting Government Stamp',\n",
              " 'Counterfeit currency & Bank notes',\n",
              " 'Counterfeiting currency notes/Bank notes',\n",
              " 'Using forged or counterfeiting currency/Bank notes',\n",
              " 'Possession of forged or counterfeiting currency/Bank notes',\n",
              " 'Making or Possessing materials for forged currency/Bank notes',\n",
              " 'Making or Using documents resembling currency',\n",
              " 'Arson',\n",
              " 'Grievous Hurt',\n",
              " 'Hurt',\n",
              " 'Acid attack',\n",
              " 'Attempt to Acid Attack',\n",
              " 'Dowry Deaths',\n",
              " 'Assault on Women with intent to outrage her Modesty',\n",
              " 'Sexual Harassment',\n",
              " 'Assault or use of criminal force to women with intent to Disrobe',\n",
              " 'Voyeurism',\n",
              " 'Stalking',\n",
              " 'Other Assault on Women',\n",
              " 'Insult to the Modesty of Women',\n",
              " 'At Office premises',\n",
              " 'Other places related to work',\n",
              " 'In Public Transport system',\n",
              " 'Places other than 231, 232 & 233',\n",
              " 'Cruelty by Husband or his Relatives',\n",
              " 'Importation of Girls from Foreign Country',\n",
              " 'Causing Death by Negligence',\n",
              " 'Deaths due to negligent driving/act',\n",
              " 'Deaths due to Other Causes',\n",
              " 'Offences against State',\n",
              " 'Sedition',\n",
              " 'Other offences against State',\n",
              " 'Offences promoting enmity between different groups',\n",
              " 'Promoting enmity between different groups',\n",
              " 'Imputation, assertions prejudicial to national integration',\n",
              " 'Extortion',\n",
              " 'Disclosure of Identity of Victims',\n",
              " 'Incidence of Rash Driving',\n",
              " 'HumanTrafficking',\n",
              " 'Unnatural Offence',\n",
              " 'Other IPC crimes',\n",
              " 'Total Cognizable IPC crimes',\n",
              " 'predictors']"
            ]
          },
          "metadata": {
            "tags": []
          },
          "execution_count": 53
        }
      ]
    },
    {
      "cell_type": "code",
      "metadata": {
        "colab": {
          "base_uri": "https://localhost:8080/"
        },
        "id": "O8HNxZwxYNDA",
        "outputId": "fa95849d-e934-4adb-a6ec-f74b71e5efef"
      },
      "source": [
        "model_data = predictors.select(\"predictors\", \"Cruelty by Husband or his Relatives\")\n",
        "model_data.show(5, truncate = False)"
      ],
      "execution_count": null,
      "outputs": [
        {
          "output_type": "stream",
          "text": [
            "+-----------------------------------------+-----------------------------------+\n",
            "|predictors                               |Cruelty by Husband or his Relatives|\n",
            "+-----------------------------------------+-----------------------------------+\n",
            "|[88.0,25.0,82.0,34.0,1.0,236.0,26.0,80.0]|165                                |\n",
            "|(8,[0,1,5,6],[28.0,17.0,135.0,94.0])     |278                                |\n",
            "|[11.0,16.0,212.0,0.0,0.0,3.0,12.0,0.0]   |91                                 |\n",
            "|[0.0,7.0,159.0,61.0,0.0,233.0,62.0,55.0] |464                                |\n",
            "|(8,[],[])                                |0                                  |\n",
            "+-----------------------------------------+-----------------------------------+\n",
            "only showing top 5 rows\n",
            "\n"
          ],
          "name": "stdout"
        }
      ]
    },
    {
      "cell_type": "code",
      "metadata": {
        "id": "pD-s2CpQYbl3"
      },
      "source": [
        "train_data, test_data = model_data.randomSplit([0.8, 0.2])"
      ],
      "execution_count": null,
      "outputs": []
    },
    {
      "cell_type": "code",
      "metadata": {
        "id": "qLYMCTqcYgeL"
      },
      "source": [
        "from pyspark.ml.regression import LinearRegression\n",
        "lr = LinearRegression(\n",
        "    featuresCol = 'predictors', \n",
        "    labelCol = 'Cruelty by Husband or his Relatives')\n",
        "lrModel = lr.fit(train_data)\n",
        "pred = lrModel.evaluate(test_data)"
      ],
      "execution_count": null,
      "outputs": []
    },
    {
      "cell_type": "code",
      "metadata": {
        "colab": {
          "base_uri": "https://localhost:8080/"
        },
        "id": "vq9Pn2HEYpOS",
        "outputId": "7f723379-ca4e-4c50-9001-9c8a5d7a6dba"
      },
      "source": [
        "lrModel.coefficients, lrModel.intercept"
      ],
      "execution_count": null,
      "outputs": [
        {
          "output_type": "execute_result",
          "data": {
            "text/plain": [
              "(DenseVector([0.8585, 0.9075, 0.3173, 0.5808, 61.4791, 0.8831, 0.0531, 3.6773]),\n",
              " 6.27245437680726)"
            ]
          },
          "metadata": {
            "tags": []
          },
          "execution_count": 57
        }
      ]
    },
    {
      "cell_type": "code",
      "metadata": {
        "colab": {
          "base_uri": "https://localhost:8080/"
        },
        "id": "PTthyZSNYwcy",
        "outputId": "714370fc-4356-47f3-95c1-b3ee3a6fe14a"
      },
      "source": [
        "pred.predictions.show(15)"
      ],
      "execution_count": null,
      "outputs": [
        {
          "output_type": "stream",
          "text": [
            "+--------------------+-----------------------------------+------------------+\n",
            "|          predictors|Cruelty by Husband or his Relatives|        prediction|\n",
            "+--------------------+-----------------------------------+------------------+\n",
            "|           (8,[],[])|                                  0|  6.27245437680726|\n",
            "|           (8,[],[])|                                  0|  6.27245437680726|\n",
            "|           (8,[],[])|                                  0|  6.27245437680726|\n",
            "|           (8,[],[])|                                  0|  6.27245437680726|\n",
            "|           (8,[],[])|                                  0|  6.27245437680726|\n",
            "|(8,[0,1],[55.0,22...|                                 56| 73.45642626546375|\n",
            "|(8,[0,1],[115.0,5...|                                106| 154.0083181920277|\n",
            "|(8,[0,1],[188.0,2...|                                242|193.99133258248025|\n",
            "|(8,[0,1,2],[57.0,...|                                 50| 65.00635141931092|\n",
            "|(8,[0,1,2,3],[107...|                                129|  143.418498986536|\n",
            "|(8,[0,1,2,3],[359...|                               1116| 604.2860936129636|\n",
            "|(8,[0,1,2,5],[18....|                                  0| 34.67516564089955|\n",
            "|(8,[0,1,2,5],[101...|                                 85|122.73499548807001|\n",
            "|(8,[0,1,2,6],[248...|                                116| 328.2781592925395|\n",
            "|(8,[0,1,2,6],[294...|                                348| 386.6155102629227|\n",
            "+--------------------+-----------------------------------+------------------+\n",
            "only showing top 15 rows\n",
            "\n"
          ],
          "name": "stdout"
        }
      ]
    },
    {
      "cell_type": "code",
      "metadata": {
        "id": "jHLW50rLY6wL"
      },
      "source": [
        "from pyspark.ml.evaluation import RegressionEvaluator\n",
        "eval = RegressionEvaluator(\n",
        "    labelCol=\"Cruelty by Husband or his Relatives\", \n",
        "    predictionCol=\"prediction\", \n",
        "    metricName=\"rmse\")"
      ],
      "execution_count": null,
      "outputs": []
    },
    {
      "cell_type": "code",
      "metadata": {
        "id": "hKnqo-_-aF96"
      },
      "source": [
        "rmse = eval.evaluate(pred.predictions)\n",
        "mse = eval.evaluate(pred.predictions, {eval.metricName: \"mse\"})\n",
        "mae = eval.evaluate(pred.predictions, {eval.metricName: \"mae\"})\n",
        "r2 = eval.evaluate(pred.predictions, {eval.metricName: \"r2\"})"
      ],
      "execution_count": null,
      "outputs": []
    },
    {
      "cell_type": "code",
      "metadata": {
        "colab": {
          "base_uri": "https://localhost:8080/"
        },
        "id": "i5db3kFjaJGR",
        "outputId": "62653d3d-7654-4562-9d7d-d71c359c8581"
      },
      "source": [
        "rmse, mse, mae, r2"
      ],
      "execution_count": null,
      "outputs": [
        {
          "output_type": "execute_result",
          "data": {
            "text/plain": [
              "(246.41941324308857, 60722.52722306806, 114.08211862659972, 0.3745542777352885)"
            ]
          },
          "metadata": {
            "tags": []
          },
          "execution_count": 64
        }
      ]
    },
    {
      "cell_type": "code",
      "metadata": {
        "id": "njgn8HJMaKyD"
      },
      "source": [
        ""
      ],
      "execution_count": null,
      "outputs": []
    }
  ]
}